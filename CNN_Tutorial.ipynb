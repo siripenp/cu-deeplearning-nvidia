{
  "nbformat": 4,
  "nbformat_minor": 0,
  "metadata": {
    "colab": {
      "name": "CNN Tutorial.ipynb",
      "provenance": [],
      "collapsed_sections": [
        "jZO8Y7isUS1Q",
        "BqPaHzcKYDyQ"
      ],
      "include_colab_link": true
    },
    "kernelspec": {
      "name": "python3",
      "display_name": "Python 3"
    },
    "accelerator": "GPU"
  },
  "cells": [
    {
      "cell_type": "markdown",
      "metadata": {
        "id": "view-in-github",
        "colab_type": "text"
      },
      "source": [
        "<a href=\"https://colab.research.google.com/github/siripenp/cu-deeplearning-nvidia/blob/main/CNN_Tutorial.ipynb\" target=\"_parent\"><img src=\"https://colab.research.google.com/assets/colab-badge.svg\" alt=\"Open In Colab\"/></a>"
      ]
    },
    {
      "cell_type": "code",
      "metadata": {
        "id": "0ds93S7VeJyn"
      },
      "source": [
        "!nvidia-smi"
      ],
      "execution_count": null,
      "outputs": []
    },
    {
      "cell_type": "code",
      "metadata": {
        "id": "iDshDA9CeZ57"
      },
      "source": [
        "import tensorflow as tf\n",
        "from tensorflow import keras\n",
        "from tensorflow.keras import layers, Model\n",
        "from tensorflow.keras.optimizers import Adam, RMSprop, SGD\n",
        "import pandas as pd\n",
        "\n",
        "from tensorflow.keras.preprocessing.image import ImageDataGenerator\n",
        "import cv2\n",
        "import numpy as np\n",
        "from sklearn.model_selection import train_test_split\n",
        "from sklearn.metrics import roc_curve, roc_auc_score\n",
        "import matplotlib.pyplot as plt\n",
        "import random\n",
        "\n",
        "from google_drive_downloader import GoogleDriveDownloader as gdd"
      ],
      "execution_count": null,
      "outputs": []
    },
    {
      "cell_type": "code",
      "metadata": {
        "id": "ZBzsT9Svh3yb"
      },
      "source": [
        "img_width, img_height = 224, 224\n",
        "batch_size = 32\n",
        "epochs = 20"
      ],
      "execution_count": null,
      "outputs": []
    },
    {
      "cell_type": "markdown",
      "metadata": {
        "id": "2ZUTZ67lkTkn"
      },
      "source": [
        "#Dataset"
      ]
    },
    {
      "cell_type": "markdown",
      "metadata": {
        "id": "SiONKvsM9yW1"
      },
      "source": [
        "We use dataset from [Tuberculosis Chest X-rays (Shenzhen)](https://www.kaggle.com/raddar/tuberculosis-chest-xrays-shenzhen) which contains chest x-ray images from tuberculosis patients and normal people."
      ]
    },
    {
      "cell_type": "code",
      "metadata": {
        "id": "9ThVvpCbkX5K"
      },
      "source": [
        "gdd.download_file_from_google_drive(file_id='1iWva59vbvdiWGxmcm8eX-idZNevugr-u',\n",
        "                                    dest_path='./shenzhen.zip',\n",
        "                                    unzip=True)"
      ],
      "execution_count": null,
      "outputs": []
    },
    {
      "cell_type": "code",
      "metadata": {
        "id": "GTjXL37j_EWo"
      },
      "source": [
        "metadata = pd.read_csv('/content/shenzhen_metadata.csv') # Read metadata of dataset"
      ],
      "execution_count": null,
      "outputs": []
    },
    {
      "cell_type": "code",
      "metadata": {
        "id": "qL7_vvx-_W75",
        "colab": {
          "base_uri": "https://localhost:8080/",
          "height": 419
        },
        "outputId": "b79da609-5755-45b1-cc98-e56d14edeed0"
      },
      "source": [
        "metadata"
      ],
      "execution_count": null,
      "outputs": [
        {
          "output_type": "execute_result",
          "data": {
            "text/html": [
              "<div>\n",
              "<style scoped>\n",
              "    .dataframe tbody tr th:only-of-type {\n",
              "        vertical-align: middle;\n",
              "    }\n",
              "\n",
              "    .dataframe tbody tr th {\n",
              "        vertical-align: top;\n",
              "    }\n",
              "\n",
              "    .dataframe thead th {\n",
              "        text-align: right;\n",
              "    }\n",
              "</style>\n",
              "<table border=\"1\" class=\"dataframe\">\n",
              "  <thead>\n",
              "    <tr style=\"text-align: right;\">\n",
              "      <th></th>\n",
              "      <th>study_id</th>\n",
              "      <th>sex</th>\n",
              "      <th>age</th>\n",
              "      <th>findings</th>\n",
              "    </tr>\n",
              "  </thead>\n",
              "  <tbody>\n",
              "    <tr>\n",
              "      <th>0</th>\n",
              "      <td>CHNCXR_0001_0.png</td>\n",
              "      <td>Male</td>\n",
              "      <td>45</td>\n",
              "      <td>normal</td>\n",
              "    </tr>\n",
              "    <tr>\n",
              "      <th>1</th>\n",
              "      <td>CHNCXR_0002_0.png</td>\n",
              "      <td>Male</td>\n",
              "      <td>63</td>\n",
              "      <td>normal</td>\n",
              "    </tr>\n",
              "    <tr>\n",
              "      <th>2</th>\n",
              "      <td>CHNCXR_0003_0.png</td>\n",
              "      <td>Female</td>\n",
              "      <td>48</td>\n",
              "      <td>normal</td>\n",
              "    </tr>\n",
              "    <tr>\n",
              "      <th>3</th>\n",
              "      <td>CHNCXR_0004_0.png</td>\n",
              "      <td>Male</td>\n",
              "      <td>58</td>\n",
              "      <td>normal</td>\n",
              "    </tr>\n",
              "    <tr>\n",
              "      <th>4</th>\n",
              "      <td>CHNCXR_0005_0.png</td>\n",
              "      <td>Male</td>\n",
              "      <td>28</td>\n",
              "      <td>normal</td>\n",
              "    </tr>\n",
              "    <tr>\n",
              "      <th>...</th>\n",
              "      <td>...</td>\n",
              "      <td>...</td>\n",
              "      <td>...</td>\n",
              "      <td>...</td>\n",
              "    </tr>\n",
              "    <tr>\n",
              "      <th>657</th>\n",
              "      <td>CHNCXR_0658_1.png</td>\n",
              "      <td>Male</td>\n",
              "      <td>41</td>\n",
              "      <td>bilateral secondary PTB  with right pneumothorax</td>\n",
              "    </tr>\n",
              "    <tr>\n",
              "      <th>658</th>\n",
              "      <td>CHNCXR_0659_1.png</td>\n",
              "      <td>Male</td>\n",
              "      <td>33</td>\n",
              "      <td>secondary PTB  in the left upper field</td>\n",
              "    </tr>\n",
              "    <tr>\n",
              "      <th>659</th>\n",
              "      <td>CHNCXR_0660_1.png</td>\n",
              "      <td>Male</td>\n",
              "      <td>50</td>\n",
              "      <td>1.bilateral secondary PTB  with right upper at...</td>\n",
              "    </tr>\n",
              "    <tr>\n",
              "      <th>660</th>\n",
              "      <td>CHNCXR_0661_1.png</td>\n",
              "      <td>Male</td>\n",
              "      <td>26</td>\n",
              "      <td>bilateral secondary PTB  with right pleural th...</td>\n",
              "    </tr>\n",
              "    <tr>\n",
              "      <th>661</th>\n",
              "      <td>CHNCXR_0662_1.png</td>\n",
              "      <td>Male</td>\n",
              "      <td>32</td>\n",
              "      <td>secondary PTB  in the right upper field</td>\n",
              "    </tr>\n",
              "  </tbody>\n",
              "</table>\n",
              "<p>662 rows × 4 columns</p>\n",
              "</div>"
            ],
            "text/plain": [
              "              study_id  ...                                           findings\n",
              "0    CHNCXR_0001_0.png  ...                                             normal\n",
              "1    CHNCXR_0002_0.png  ...                                             normal\n",
              "2    CHNCXR_0003_0.png  ...                                             normal\n",
              "3    CHNCXR_0004_0.png  ...                                             normal\n",
              "4    CHNCXR_0005_0.png  ...                                             normal\n",
              "..                 ...  ...                                                ...\n",
              "657  CHNCXR_0658_1.png  ...   bilateral secondary PTB  with right pneumothorax\n",
              "658  CHNCXR_0659_1.png  ...             secondary PTB  in the left upper field\n",
              "659  CHNCXR_0660_1.png  ...  1.bilateral secondary PTB  with right upper at...\n",
              "660  CHNCXR_0661_1.png  ...  bilateral secondary PTB  with right pleural th...\n",
              "661  CHNCXR_0662_1.png  ...            secondary PTB  in the right upper field\n",
              "\n",
              "[662 rows x 4 columns]"
            ]
          },
          "metadata": {
            "tags": []
          },
          "execution_count": 7
        }
      ]
    },
    {
      "cell_type": "code",
      "metadata": {
        "id": "BM8hWINN_7L3"
      },
      "source": [
        "metadata['study_id'] = '/content/images/images/' + metadata['study_id'].astype(str)\n",
        "\n",
        "metadata['label'] = pd.Series(-1, index=metadata.index) #Add new column for number labels\n",
        "metadata.loc[metadata['findings'] == 'normal','label'] = 0\n",
        "metadata.loc[metadata['findings'] != 'normal','label'] = 1"
      ],
      "execution_count": null,
      "outputs": []
    },
    {
      "cell_type": "code",
      "metadata": {
        "id": "AbnHOcakBvgP",
        "colab": {
          "base_uri": "https://localhost:8080/",
          "height": 419
        },
        "outputId": "2371847d-d59d-40de-abd3-e96584d74319"
      },
      "source": [
        "metadata"
      ],
      "execution_count": null,
      "outputs": [
        {
          "output_type": "execute_result",
          "data": {
            "text/html": [
              "<div>\n",
              "<style scoped>\n",
              "    .dataframe tbody tr th:only-of-type {\n",
              "        vertical-align: middle;\n",
              "    }\n",
              "\n",
              "    .dataframe tbody tr th {\n",
              "        vertical-align: top;\n",
              "    }\n",
              "\n",
              "    .dataframe thead th {\n",
              "        text-align: right;\n",
              "    }\n",
              "</style>\n",
              "<table border=\"1\" class=\"dataframe\">\n",
              "  <thead>\n",
              "    <tr style=\"text-align: right;\">\n",
              "      <th></th>\n",
              "      <th>study_id</th>\n",
              "      <th>sex</th>\n",
              "      <th>age</th>\n",
              "      <th>findings</th>\n",
              "      <th>label</th>\n",
              "    </tr>\n",
              "  </thead>\n",
              "  <tbody>\n",
              "    <tr>\n",
              "      <th>0</th>\n",
              "      <td>/content/images/images/CHNCXR_0001_0.png</td>\n",
              "      <td>Male</td>\n",
              "      <td>45</td>\n",
              "      <td>normal</td>\n",
              "      <td>0</td>\n",
              "    </tr>\n",
              "    <tr>\n",
              "      <th>1</th>\n",
              "      <td>/content/images/images/CHNCXR_0002_0.png</td>\n",
              "      <td>Male</td>\n",
              "      <td>63</td>\n",
              "      <td>normal</td>\n",
              "      <td>0</td>\n",
              "    </tr>\n",
              "    <tr>\n",
              "      <th>2</th>\n",
              "      <td>/content/images/images/CHNCXR_0003_0.png</td>\n",
              "      <td>Female</td>\n",
              "      <td>48</td>\n",
              "      <td>normal</td>\n",
              "      <td>0</td>\n",
              "    </tr>\n",
              "    <tr>\n",
              "      <th>3</th>\n",
              "      <td>/content/images/images/CHNCXR_0004_0.png</td>\n",
              "      <td>Male</td>\n",
              "      <td>58</td>\n",
              "      <td>normal</td>\n",
              "      <td>0</td>\n",
              "    </tr>\n",
              "    <tr>\n",
              "      <th>4</th>\n",
              "      <td>/content/images/images/CHNCXR_0005_0.png</td>\n",
              "      <td>Male</td>\n",
              "      <td>28</td>\n",
              "      <td>normal</td>\n",
              "      <td>0</td>\n",
              "    </tr>\n",
              "    <tr>\n",
              "      <th>...</th>\n",
              "      <td>...</td>\n",
              "      <td>...</td>\n",
              "      <td>...</td>\n",
              "      <td>...</td>\n",
              "      <td>...</td>\n",
              "    </tr>\n",
              "    <tr>\n",
              "      <th>657</th>\n",
              "      <td>/content/images/images/CHNCXR_0658_1.png</td>\n",
              "      <td>Male</td>\n",
              "      <td>41</td>\n",
              "      <td>bilateral secondary PTB  with right pneumothorax</td>\n",
              "      <td>1</td>\n",
              "    </tr>\n",
              "    <tr>\n",
              "      <th>658</th>\n",
              "      <td>/content/images/images/CHNCXR_0659_1.png</td>\n",
              "      <td>Male</td>\n",
              "      <td>33</td>\n",
              "      <td>secondary PTB  in the left upper field</td>\n",
              "      <td>1</td>\n",
              "    </tr>\n",
              "    <tr>\n",
              "      <th>659</th>\n",
              "      <td>/content/images/images/CHNCXR_0660_1.png</td>\n",
              "      <td>Male</td>\n",
              "      <td>50</td>\n",
              "      <td>1.bilateral secondary PTB  with right upper at...</td>\n",
              "      <td>1</td>\n",
              "    </tr>\n",
              "    <tr>\n",
              "      <th>660</th>\n",
              "      <td>/content/images/images/CHNCXR_0661_1.png</td>\n",
              "      <td>Male</td>\n",
              "      <td>26</td>\n",
              "      <td>bilateral secondary PTB  with right pleural th...</td>\n",
              "      <td>1</td>\n",
              "    </tr>\n",
              "    <tr>\n",
              "      <th>661</th>\n",
              "      <td>/content/images/images/CHNCXR_0662_1.png</td>\n",
              "      <td>Male</td>\n",
              "      <td>32</td>\n",
              "      <td>secondary PTB  in the right upper field</td>\n",
              "      <td>1</td>\n",
              "    </tr>\n",
              "  </tbody>\n",
              "</table>\n",
              "<p>662 rows × 5 columns</p>\n",
              "</div>"
            ],
            "text/plain": [
              "                                     study_id  ... label\n",
              "0    /content/images/images/CHNCXR_0001_0.png  ...     0\n",
              "1    /content/images/images/CHNCXR_0002_0.png  ...     0\n",
              "2    /content/images/images/CHNCXR_0003_0.png  ...     0\n",
              "3    /content/images/images/CHNCXR_0004_0.png  ...     0\n",
              "4    /content/images/images/CHNCXR_0005_0.png  ...     0\n",
              "..                                        ...  ...   ...\n",
              "657  /content/images/images/CHNCXR_0658_1.png  ...     1\n",
              "658  /content/images/images/CHNCXR_0659_1.png  ...     1\n",
              "659  /content/images/images/CHNCXR_0660_1.png  ...     1\n",
              "660  /content/images/images/CHNCXR_0661_1.png  ...     1\n",
              "661  /content/images/images/CHNCXR_0662_1.png  ...     1\n",
              "\n",
              "[662 rows x 5 columns]"
            ]
          },
          "metadata": {
            "tags": []
          },
          "execution_count": 9
        }
      ]
    },
    {
      "cell_type": "code",
      "metadata": {
        "id": "kHxI3MW5B7dP"
      },
      "source": [
        "def read_img(path):\n",
        "    image = cv2.imread(path)\n",
        "    image = cv2.cvtColor(image, cv2.COLOR_BGR2RGB)\n",
        "    image = cv2.resize(image,(img_height, img_width))\n",
        "    \n",
        "    return image"
      ],
      "execution_count": null,
      "outputs": []
    },
    {
      "cell_type": "markdown",
      "metadata": {
        "id": "NrUPK9BjIEqW"
      },
      "source": [
        "##Data Visualization"
      ]
    },
    {
      "cell_type": "code",
      "metadata": {
        "id": "Hb7LGdR2dB74",
        "colab": {
          "base_uri": "https://localhost:8080/",
          "height": 499
        },
        "outputId": "0b951334-fdf6-49c4-82ca-ff3c45199108"
      },
      "source": [
        "f, axarr = plt.subplots(2,2,figsize=(10,8))\n",
        "axarr[0,0].imshow(read_img('/content/images/images/CHNCXR_0658_1.png'))\n",
        "axarr[0,0].title.set_text('TB example')\n",
        "axarr[0,1].imshow(read_img('/content/images/images/CHNCXR_0659_1.png'))\n",
        "axarr[0,1].title.set_text('TB example')\n",
        "axarr[1,0].imshow(read_img('/content/images/images/CHNCXR_0001_0.png'))\n",
        "axarr[1,0].title.set_text('Non TB example')\n",
        "axarr[1,1].imshow(read_img('/content/images/images/CHNCXR_0002_0.png'))\n",
        "axarr[1,1].title.set_text('Non TB example')"
      ],
      "execution_count": null,
      "outputs": [
        {
          "output_type": "display_data",
          "data": {
            "image/png": "[encoded data removed]",
            "text/plain": [
              "<Figure size 720x576 with 4 Axes>"
            ]
          },
          "metadata": {
            "tags": [],
            "needs_background": "light"
          }
        }
      ]
    },
    {
      "cell_type": "markdown",
      "metadata": {
        "id": "5Huq6agFIP0S"
      },
      "source": [
        "##Data Preprocessing"
      ]
    },
    {
      "cell_type": "code",
      "metadata": {
        "id": "XeMUGEG8Cuie"
      },
      "source": [
        "X = []\n",
        "y = []\n",
        "\n",
        "for index, row in metadata.iterrows():\n",
        "  X.append(read_img(row['study_id']))\n",
        "  y.append(row['label'])"
      ],
      "execution_count": null,
      "outputs": []
    },
    {
      "cell_type": "code",
      "metadata": {
        "id": "7QWucc2_FBQJ"
      },
      "source": [
        "X_train, X_test, y_train, y_test = train_test_split(X, y, test_size=0.25, random_state=42,stratify=y)\n",
        "X_train, X_val, y_train, y_val = train_test_split(X_train, y_train, test_size=0.25, random_state=42,stratify=y_train)"
      ],
      "execution_count": null,
      "outputs": []
    },
    {
      "cell_type": "markdown",
      "metadata": {
        "id": "gSSf-dD3kNy7"
      },
      "source": [
        "#Image Data Generator"
      ]
    },
    {
      "cell_type": "markdown",
      "metadata": {
        "id": "BU4Bi10Xt2Fz"
      },
      "source": [
        "Image data generator is used for image augmentation and loading data from directory. For more detail about image data generator, you can read at [ImageDataGenerator](https://www.tensorflow.org/api_docs/python/tf/keras/preprocessing/image/ImageDataGenerator)"
      ]
    },
    {
      "cell_type": "code",
      "metadata": {
        "id": "H5I8ZNWQkFNT"
      },
      "source": [
        "train_datagen = ImageDataGenerator(rescale=1. / 255,\n",
        "                                   featurewise_center=True,\n",
        "                                   featurewise_std_normalization=True,\n",
        "                                   horizontal_flip=True, \n",
        "                                   rotation_range=90)\n",
        "valtest_datagen = ImageDataGenerator(rescale=1. / 255,featurewise_center=True,featurewise_std_normalization=True)"
      ],
      "execution_count": null,
      "outputs": []
    },
    {
      "cell_type": "code",
      "metadata": {
        "id": "PEKuToldsMeF"
      },
      "source": [
        "train_datagen.fit(X_train)\n",
        "valtest_datagen.fit(X_train)"
      ],
      "execution_count": null,
      "outputs": []
    },
    {
      "cell_type": "code",
      "metadata": {
        "id": "zTiYYQH6mjWT"
      },
      "source": [
        "train_generator = train_datagen.flow(np.array(X_train), y_train, batch_size=batch_size)\n",
        "validation_generator = valtest_datagen.flow(np.array(X_val), y_val, batch_size=batch_size, shuffle=False)\n",
        "test_generator = valtest_datagen.flow(np.array(X_test), y_test, batch_size=batch_size, shuffle=False)"
      ],
      "execution_count": null,
      "outputs": []
    },
    {
      "cell_type": "markdown",
      "metadata": {
        "id": "PjkehzwYrrd9"
      },
      "source": [
        "#Function"
      ]
    },
    {
      "cell_type": "code",
      "metadata": {
        "id": "T8BpjBDgsa2y"
      },
      "source": [
        "def plot_loss_history(hist):\n",
        "  ax = plt.figure().gca()\n",
        "  plt.plot(hist.history['loss'])\n",
        "  plt.plot(hist.history['val_loss'])\n",
        "  plt.title('Model loss')\n",
        "  plt.xlabel('Epoch')\n",
        "  plt.legend(['Train', 'Validation'], loc='upper left')\n",
        "  plt.ylim(0,2)\n",
        "  ax.xaxis.set_major_locator(MaxNLocator(integer=True))\n",
        "  plt.show()\n",
        "  print(\"Best loss at epoch: \"+str(np.argmin(hist.history['val_loss'])))"
      ],
      "execution_count": null,
      "outputs": []
    },
    {
      "cell_type": "code",
      "metadata": {
        "id": "L_GAP98atAFt"
      },
      "source": [
        "def plot_roc_curve(y_test,y_pred,name):\n",
        "\n",
        "  # calculate AUROC score\n",
        "  print('AUROC score: %.4f' % roc_auc_score(y_test, y_pred))\n",
        "\n",
        "  # calculate roc curves\n",
        "  model_fpr, model_tpr, _ = roc_curve(y_test, y_pred)\n",
        "  # plot the roc curve for the model\n",
        "  plt.plot([0,1], [0,1], linestyle='--')\n",
        "  plt.plot(model_fpr, model_tpr, marker='.',label=name)\n",
        "  # axis labels\n",
        "  plt.xlabel('False Positive Rate')\n",
        "  plt.ylabel('True Positive Rate')\n",
        "  # show the legend\n",
        "  plt.legend()\n",
        "  # show the plot\n",
        "  plt.show()"
      ],
      "execution_count": null,
      "outputs": []
    },
    {
      "cell_type": "code",
      "metadata": {
        "id": "tI9zbkIjtINp"
      },
      "source": [
        "def show_prediction_result(y_test,y_pred,X_test):\n",
        "  pred_dict = {1:'TB',0:'Non TB'}\n",
        "\n",
        "  y_pred = np.round(y_pred).astype(int)\n",
        "\n",
        "  # idx_list = [random.randint(0,len(X_test)) for i in range(4)] #random show image in test set\n",
        "  idx_list = [10,20,30,40]\n",
        "\n",
        "  f, axarr = plt.subplots(2,2,figsize=(10,8))\n",
        "  axarr[0,0].imshow(X_test[idx_list[0]])\n",
        "  axarr[0,0].title.set_text('Pred: '+pred_dict[y_pred.item(idx_list[0])]+', Label: '+pred_dict[y_test[idx_list[0]]])\n",
        "  axarr[0,1].imshow(X_test[idx_list[1]])\n",
        "  axarr[0,1].title.set_text('Pred: '+pred_dict[y_pred.item(idx_list[1])]+', Label: '+pred_dict[y_test[idx_list[1]]])\n",
        "  axarr[1,0].imshow(X_test[idx_list[2]])\n",
        "  axarr[1,0].title.set_text('Pred: '+pred_dict[y_pred.item(idx_list[2])]+', Label: '+pred_dict[y_test[idx_list[2]]])\n",
        "  axarr[1,1].imshow(X_test[idx_list[3]])\n",
        "  axarr[1,1].title.set_text('Pred: '+pred_dict[y_pred.item(idx_list[3])]+', Label: '+pred_dict[y_test[idx_list[3]]])"
      ],
      "execution_count": null,
      "outputs": []
    },
    {
      "cell_type": "markdown",
      "metadata": {
        "id": "X-SBhSedkFba"
      },
      "source": [
        "#Simple Convolution Neural Network"
      ]
    },
    {
      "cell_type": "markdown",
      "metadata": {
        "id": "JMpo7zH7HUsV"
      },
      "source": [
        "##Create model"
      ]
    },
    {
      "cell_type": "code",
      "metadata": {
        "id": "yAftRkgPe9xx"
      },
      "source": [
        "img_inputs = keras.Input(shape=(img_height, img_width, 3))\n",
        "x = layers.Conv2D(128, 3, activation='relu')(img_inputs) # 32 is number of output filter, 3 is kernel size which has height and width equal to 3\n",
        "x = layers.MaxPooling2D(pool_size=(2, 2))(x) # pooling feature from convolution layer output\n",
        "\n",
        "x = layers.Conv2D(64, 3, activation='relu')(x)\n",
        "x = layers.MaxPooling2D(pool_size=(2, 2))(x)\n",
        "\n",
        "x = layers.Conv2D(32, 3, activation='relu')(x)\n",
        "x = layers.MaxPooling2D(pool_size=(2, 2))(x)\n",
        "\n",
        "x = layers.Flatten()(x) # flatten 2-D feature array to 1-D array\n",
        "x = layers.Dense(128, activation='relu')(x)\n",
        "x = layers.Dense(64, activation='relu')(x)\n",
        "\n",
        "outputs = layers.Dense(1, activation='sigmoid')(x) # map real value into range of 0 to 1\n",
        "\n",
        "cnn_model = keras.Model(inputs=img_inputs, outputs=outputs)"
      ],
      "execution_count": null,
      "outputs": []
    },
    {
      "cell_type": "code",
      "metadata": {
        "id": "uBsFxuhwkjCx",
        "colab": {
          "base_uri": "https://localhost:8080/"
        },
        "outputId": "6b818d64-72ca-47c1-aa04-9fe57f50a304"
      },
      "source": [
        "cnn_model.summary()"
      ],
      "execution_count": null,
      "outputs": [
        {
          "output_type": "stream",
          "text": [
            "Model: \"functional_1\"\n",
            "_________________________________________________________________\n",
            "Layer (type)                 Output Shape              Param #   \n",
            "=================================================================\n",
            "input_1 (InputLayer)         [(None, 224, 224, 3)]     0         \n",
            "_________________________________________________________________\n",
            "conv2d (Conv2D)              (None, 222, 222, 128)     3584      \n",
            "_________________________________________________________________\n",
            "max_pooling2d (MaxPooling2D) (None, 111, 111, 128)     0         \n",
            "_________________________________________________________________\n",
            "conv2d_1 (Conv2D)            (None, 109, 109, 64)      73792     \n",
            "_________________________________________________________________\n",
            "max_pooling2d_1 (MaxPooling2 (None, 54, 54, 64)        0         \n",
            "_________________________________________________________________\n",
            "conv2d_2 (Conv2D)            (None, 52, 52, 32)        18464     \n",
            "_________________________________________________________________\n",
            "max_pooling2d_2 (MaxPooling2 (None, 26, 26, 32)        0         \n",
            "_________________________________________________________________\n",
            "flatten (Flatten)            (None, 21632)             0         \n",
            "_________________________________________________________________\n",
            "dense (Dense)                (None, 128)               2769024   \n",
            "_________________________________________________________________\n",
            "dense_1 (Dense)              (None, 64)                8256      \n",
            "_________________________________________________________________\n",
            "dense_2 (Dense)              (None, 1)                 65        \n",
            "=================================================================\n",
            "Total params: 2,873,185\n",
            "Trainable params: 2,873,185\n",
            "Non-trainable params: 0\n",
            "_________________________________________________________________\n"
          ],
          "name": "stdout"
        }
      ]
    },
    {
      "cell_type": "code",
      "metadata": {
        "id": "AEWrhkvxkkAv"
      },
      "source": [
        "cnn_model.compile(\n",
        "    loss=keras.losses.BinaryCrossentropy(), # Binary cross entropy is using for binary classification. If our task is multiclass classification, we will change loss to Categorical cross entropy\n",
        "    optimizer=keras.optimizers.Adam(learning_rate=0.01),\n",
        "    metrics=[\"accuracy\"],\n",
        ")"
      ],
      "execution_count": null,
      "outputs": []
    },
    {
      "cell_type": "markdown",
      "metadata": {
        "id": "T6m5HNGotn-9"
      },
      "source": [
        "##Model Training"
      ]
    },
    {
      "cell_type": "code",
      "metadata": {
        "id": "vHYEh3QTqHwq"
      },
      "source": [
        "simple_cnn_model_checkpoint_callback = keras.callbacks.ModelCheckpoint(\n",
        "    filepath='./simple_cnn.h5',\n",
        "    save_weights_only=True, \n",
        "    verbose=1,\n",
        "    monitor='val_loss',\n",
        "    save_best_only=True) # This callback will save model when it has a lower loss than before.\n"
      ],
      "execution_count": null,
      "outputs": []
    },
    {
      "cell_type": "markdown",
      "metadata": {
        "id": "FTVBGAG23uNc"
      },
      "source": [
        "Tensorflow also provide other callbacks that are helpful when we try to adjust some parameter while training the model. You can see a list of callback at this [link](https://www.tensorflow.org/api_docs/python/tf/keras/callbacks)."
      ]
    },
    {
      "cell_type": "code",
      "metadata": {
        "id": "PcsOGhcZ3tnY"
      },
      "source": [
        "#Try add other callback like ReduceLROnPlateau\n",
        "\n"
      ],
      "execution_count": null,
      "outputs": []
    },
    {
      "cell_type": "code",
      "metadata": {
        "id": "2PqcO1bgtNIX"
      },
      "source": [
        "simple_cnn_history = cnn_model.fit(train_generator, \n",
        "                    validation_data=validation_generator,\n",
        "                    batch_size=batch_size, \n",
        "                    callbacks=[simple_cnn_model_checkpoint_callback], # Add callback here\n",
        "                    epochs=epochs,)"
      ],
      "execution_count": null,
      "outputs": []
    },
    {
      "cell_type": "code",
      "metadata": {
        "id": "y622WftDtaQB"
      },
      "source": [
        "plot_loss_history(simple_cnn_history)"
      ],
      "execution_count": null,
      "outputs": []
    },
    {
      "cell_type": "markdown",
      "metadata": {
        "id": "w9c6r3h-DeLG"
      },
      "source": [
        "##Model Evaluation"
      ]
    },
    {
      "cell_type": "code",
      "metadata": {
        "id": "JPFfseZXxXbG"
      },
      "source": [
        "cnn_model.load_weights('./simple_cnn.h5')\n",
        "results = cnn_model.evaluate(test_generator)\n",
        "print(\"test loss, test acc:\", results)"
      ],
      "execution_count": null,
      "outputs": []
    },
    {
      "cell_type": "code",
      "metadata": {
        "id": "BBqMyzRnxXud"
      },
      "source": [
        "cnn_predictions = cnn_model.predict(test_generator)"
      ],
      "execution_count": null,
      "outputs": []
    },
    {
      "cell_type": "code",
      "metadata": {
        "id": "wsxibn6RCzOf"
      },
      "source": [
        "plot_roc_curve(y_test, cnn_predictions,'simple cnn')"
      ],
      "execution_count": null,
      "outputs": []
    },
    {
      "cell_type": "code",
      "metadata": {
        "id": "B5NNJv_DvGcW"
      },
      "source": [
        "show_prediction_result(y_test, cnn_predictions, X_test)"
      ],
      "execution_count": null,
      "outputs": []
    },
    {
      "cell_type": "markdown",
      "metadata": {
        "id": "_JlsIDw1xYK0"
      },
      "source": [
        "#Dropout"
      ]
    },
    {
      "cell_type": "markdown",
      "metadata": {
        "id": "MayRyOi0HdSf"
      },
      "source": [
        "##Create model"
      ]
    },
    {
      "cell_type": "markdown",
      "metadata": {
        "id": "5tTGD9Da3Fdq"
      },
      "source": [
        "Normally, we add [dropout](https://www.tensorflow.org/api_docs/python/tf/keras/layers/Dropout) after dense layer to reduce overfitting chance. However if model is not complex, dropout can drop the model accuracy."
      ]
    },
    {
      "cell_type": "code",
      "metadata": {
        "id": "e_DxbeGImTih"
      },
      "source": [
        "img_inputs = keras.Input(shape=(img_height, img_width, 3))\n",
        "x = layers.Conv2D(128, 3, activation='relu')(img_inputs)\n",
        "x = layers.MaxPooling2D(pool_size=(2, 2))(x)\n",
        "\n",
        "x = layers.Conv2D(64, 3, activation='relu')(x)\n",
        "x = layers.MaxPooling2D(pool_size=(2, 2))(x)\n",
        "\n",
        "x = layers.Conv2D(32, 3, activation='relu')(x)\n",
        "x = layers.MaxPooling2D(pool_size=(2, 2))(x)\n",
        "\n",
        "x = layers.Flatten()(x) \n",
        "x = layers.Dense(128, activation='relu')(x)\n",
        "#Try to add dropout\n",
        "\n",
        "x = layers.Dense(64, activation='relu')(x)\n",
        "#Try to add dropout\n",
        "\n",
        "outputs = layers.Dense(1, activation='sigmoid')(x)\n",
        "\n",
        "d_cnn_model = keras.Model(inputs=img_inputs, outputs=outputs)"
      ],
      "execution_count": null,
      "outputs": []
    },
    {
      "cell_type": "code",
      "metadata": {
        "id": "sIpPKRwqx6xe"
      },
      "source": [
        "d_cnn_model.summary()"
      ],
      "execution_count": null,
      "outputs": []
    },
    {
      "cell_type": "code",
      "metadata": {
        "id": "ZfrhOXHVx7UP"
      },
      "source": [
        "d_cnn_model.compile(\n",
        "    loss=keras.losses.BinaryCrossentropy(),\n",
        "    optimizer=keras.optimizers.Adam(learning_rate=0.01),\n",
        "    metrics=[\"accuracy\"],\n",
        ")"
      ],
      "execution_count": null,
      "outputs": []
    },
    {
      "cell_type": "markdown",
      "metadata": {
        "id": "jZO8Y7isUS1Q"
      },
      "source": [
        "###Solution"
      ]
    },
    {
      "cell_type": "markdown",
      "metadata": {
        "id": "YPxx-HcvXoVr"
      },
      "source": [
        "Dropout solution code\n",
        "\n",
        "``````\n",
        "img_inputs = keras.Input(shape=(img_height, img_width, 3))\n",
        "x = layers.Conv2D(128, 3, activation='relu')(img_inputs)\n",
        "x = layers.MaxPooling2D(pool_size=(2, 2))(x)\n",
        "\n",
        "x = layers.Conv2D(64, 3, activation='relu')(x)\n",
        "x = layers.MaxPooling2D(pool_size=(2, 2))(x)\n",
        "\n",
        "x = layers.Conv2D(32, 3, activation='relu')(x)\n",
        "x = layers.MaxPooling2D(pool_size=(2, 2))(x)\n",
        "\n",
        "x = layers.Flatten()(x) \n",
        "x = layers.Dense(128, activation='relu')(x)\n",
        "x = layers.Dropout(0.2)(x)\n",
        "x = layers.Dense(64, activation='relu')(x)\n",
        "x = layers.Dropout(0.2)(x)\n",
        "\n",
        "outputs = layers.Dense(1, activation='sigmoid')(x)\n",
        "\n",
        "d_cnn_model = keras.Model(inputs=img_inputs, outputs=outputs)\n",
        "``````"
      ]
    },
    {
      "cell_type": "markdown",
      "metadata": {
        "id": "_LnqvwALyKNw"
      },
      "source": [
        "##Model Training"
      ]
    },
    {
      "cell_type": "code",
      "metadata": {
        "id": "iOeI-MBgxEom"
      },
      "source": [
        "cnn_dropout_model_checkpoint_callback = keras.callbacks.ModelCheckpoint(\n",
        "    filepath='./cnn+dropout.h5',\n",
        "    save_weights_only=True, \n",
        "    verbose=1,\n",
        "    monitor='val_loss',\n",
        "    save_best_only=True)"
      ],
      "execution_count": null,
      "outputs": []
    },
    {
      "cell_type": "code",
      "metadata": {
        "id": "5SP4D2wsyK68"
      },
      "source": [
        "cnn_dropout_history = d_cnn_model.fit(train_generator, \n",
        "                    validation_data=validation_generator,\n",
        "                    batch_size=batch_size, \n",
        "                    callbacks=[cnn_dropout_model_checkpoint_callback], \n",
        "                    epochs=epochs,)"
      ],
      "execution_count": null,
      "outputs": []
    },
    {
      "cell_type": "code",
      "metadata": {
        "id": "6reIM_BQyPZI"
      },
      "source": [
        "plot_loss_history(cnn_dropout_history)"
      ],
      "execution_count": null,
      "outputs": []
    },
    {
      "cell_type": "markdown",
      "metadata": {
        "id": "eEpoNCLHBOc0"
      },
      "source": [
        "##Model Evaluation"
      ]
    },
    {
      "cell_type": "code",
      "metadata": {
        "id": "UC7ZbU4hyTut"
      },
      "source": [
        "cnn_model.load_weights('./cnn+dropout.h5')\n",
        "results = d_cnn_model.evaluate(test_generator)\n",
        "print(\"test loss, test acc:\", results)"
      ],
      "execution_count": null,
      "outputs": []
    },
    {
      "cell_type": "code",
      "metadata": {
        "id": "QzBYos8kBQx7"
      },
      "source": [
        "d_cnn_predictions = d_cnn_model.predict(test_generator)"
      ],
      "execution_count": null,
      "outputs": []
    },
    {
      "cell_type": "code",
      "metadata": {
        "id": "04SvKJ_WBUPA"
      },
      "source": [
        "plot_roc_curve(y_test, d_cnn_predictions, 'cnn+dropout')"
      ],
      "execution_count": null,
      "outputs": []
    },
    {
      "cell_type": "code",
      "metadata": {
        "id": "Btu8TbqPvSOc"
      },
      "source": [
        "show_prediction_result(y_test, d_cnn_predictions, X_test)"
      ],
      "execution_count": null,
      "outputs": []
    },
    {
      "cell_type": "markdown",
      "metadata": {
        "id": "EdtzQi4yyT65"
      },
      "source": [
        "# Batch Normalization"
      ]
    },
    {
      "cell_type": "markdown",
      "metadata": {
        "id": "NNjgLlTOHp-r"
      },
      "source": [
        "##Create model"
      ]
    },
    {
      "cell_type": "markdown",
      "metadata": {
        "id": "Himk1EDkE2Xs"
      },
      "source": [
        "[Batch Normalization](https://www.tensorflow.org/api_docs/python/tf/keras/layers/BatchNormalization) layer can add between the layer and activation of that layer. We prefer to use batch normalization with dropout at dense layer but you can try to add dropout on other layer like convolutional layer or maxpooling layer."
      ]
    },
    {
      "cell_type": "markdown",
      "metadata": {
        "id": "Kan2VgDmGw1w"
      },
      "source": [
        "You can split activation from layer like this\n",
        "\n",
        "`````\n",
        "x = layers.Conv2D(128, 3, activation='relu')(img_inputs)\n",
        "`````\n",
        "\n",
        "to\n",
        "\n",
        "`````\n",
        "x = layers.Conv2D(128, 3)(x)\n",
        "x = layers.Activation(\"relu\")(x)\n",
        "`````"
      ]
    },
    {
      "cell_type": "code",
      "metadata": {
        "id": "VdabmSZ6GH31"
      },
      "source": [
        "#Add Batch Normalization layer into this network\n",
        "\n",
        "img_inputs = keras.Input(shape=(img_height, img_width, 3))\n",
        "x = layers.Conv2D(128, 3, activation='relu')(img_inputs)\n",
        "x = layers.MaxPooling2D(pool_size=(2, 2))(x)\n",
        "\n",
        "x = layers.Conv2D(64, 3, activation='relu')(x)\n",
        "x = layers.MaxPooling2D(pool_size=(2, 2))(x)\n",
        "\n",
        "x = layers.Conv2D(32, 3, activation='relu')(x)\n",
        "x = layers.MaxPooling2D(pool_size=(2, 2))(x)\n",
        "\n",
        "x = layers.Flatten()(x) \n",
        "x = layers.Dense(128, activation='relu')(x)\n",
        "x = layers.Dropout(0.2)(x)\n",
        "\n",
        "x = layers.Dense(64, activation='relu')(x)\n",
        "x = layers.Dropout(0.2)(x)\n",
        "\n",
        "outputs = layers.Dense(1, activation='sigmoid')(x)\n",
        "\n",
        "bn_cnn_model = keras.Model(inputs=img_inputs, outputs=outputs)"
      ],
      "execution_count": null,
      "outputs": []
    },
    {
      "cell_type": "code",
      "metadata": {
        "id": "oSPIklmMNqe4"
      },
      "source": [
        "bn_cnn_model.summary()"
      ],
      "execution_count": null,
      "outputs": []
    },
    {
      "cell_type": "code",
      "metadata": {
        "id": "4A59Y5CiLZ2V"
      },
      "source": [
        "bn_cnn_model.compile(\n",
        "    loss=keras.losses.BinaryCrossentropy(),\n",
        "    optimizer=keras.optimizers.Adam(learning_rate=0.01),\n",
        "    metrics=[\"accuracy\"],\n",
        ")"
      ],
      "execution_count": null,
      "outputs": []
    },
    {
      "cell_type": "markdown",
      "metadata": {
        "id": "BqPaHzcKYDyQ"
      },
      "source": [
        "###Solution"
      ]
    },
    {
      "cell_type": "markdown",
      "metadata": {
        "id": "uTnAoY_lYEHO"
      },
      "source": [
        "Batch Normalization solution code\n",
        "`````\n",
        "img_inputs = keras.Input(shape=(img_height, img_width, 3))\n",
        "x = layers.Conv2D(128, 3)(img_inputs)\n",
        "x = layers.BatchNormalization()(x)\n",
        "x = layers.Activation(\"relu\")(x)\n",
        "x = layers.MaxPooling2D(pool_size=(2, 2))(x)\n",
        "\n",
        "x = layers.Conv2D(64, 3)(x)\n",
        "x = layers.BatchNormalization()(x)\n",
        "x = layers.Activation(\"relu\")(x)\n",
        "x = layers.MaxPooling2D(pool_size=(2, 2))(x)\n",
        "\n",
        "x = layers.Conv2D(32, 3)(x)\n",
        "x = layers.BatchNormalization()(x)\n",
        "x = layers.Activation(\"relu\")(x)\n",
        "x = layers.MaxPooling2D(pool_size=(2, 2))(x)\n",
        "\n",
        "x = layers.Flatten()(x) \n",
        "x = layers.Dense(128)(x)\n",
        "x = layers.BatchNormalization()(x)\n",
        "x = layers.Activation(\"relu\")(x)\n",
        "x = layers.Dropout(0.2)(x)\n",
        "x = layers.Dense(64)(x)\n",
        "x = layers.BatchNormalization()(x)\n",
        "x = layers.Activation(\"relu\")(x)\n",
        "x = layers.Dropout(0.2)(x)\n",
        "\n",
        "outputs = layers.Dense(1, activation='sigmoid')(x)\n",
        "\n",
        "bn_cnn_model = keras.Model(inputs=img_inputs, outputs=outputs)\n",
        "`````"
      ]
    },
    {
      "cell_type": "markdown",
      "metadata": {
        "id": "VHC9Q1fPHuGx"
      },
      "source": [
        "##Model Training"
      ]
    },
    {
      "cell_type": "code",
      "metadata": {
        "id": "dgiBr_5f4xsQ"
      },
      "source": [
        "cnn_batchnorm_model_checkpoint_callback = keras.callbacks.ModelCheckpoint(\n",
        "    filepath='./cnn+batchnorm.h5',\n",
        "    save_weights_only=True, \n",
        "    verbose=1,\n",
        "    monitor='val_loss',\n",
        "    save_best_only=True)"
      ],
      "execution_count": null,
      "outputs": []
    },
    {
      "cell_type": "code",
      "metadata": {
        "id": "790h-mf8LUJf"
      },
      "source": [
        "cnn_batchnorm_history = bn_cnn_model.fit(train_generator, \n",
        "                    validation_data=validation_generator,\n",
        "                    batch_size=batch_size, \n",
        "                    callbacks=[cnn_batchnorm_model_checkpoint_callback], \n",
        "                    epochs=epochs,)"
      ],
      "execution_count": null,
      "outputs": []
    },
    {
      "cell_type": "code",
      "metadata": {
        "id": "zoZpzqQM49rS"
      },
      "source": [
        "plot_loss_history(cnn_batchnorm_history)"
      ],
      "execution_count": null,
      "outputs": []
    },
    {
      "cell_type": "markdown",
      "metadata": {
        "id": "zDUK_fRG_xF3"
      },
      "source": [
        "##Model Evaluation"
      ]
    },
    {
      "cell_type": "code",
      "metadata": {
        "id": "0ZKU2Wc87UQX"
      },
      "source": [
        "bn_cnn_model.load_weights('./cnn+batchnorm.h5')\n",
        "results = bn_cnn_model.evaluate(test_generator)\n",
        "print(\"test loss, test acc:\", results)"
      ],
      "execution_count": null,
      "outputs": []
    },
    {
      "cell_type": "code",
      "metadata": {
        "id": "ch_Dakw8l7ir"
      },
      "source": [
        "bn_cnn_predictions = bn_cnn_model.predict(test_generator)"
      ],
      "execution_count": null,
      "outputs": []
    },
    {
      "cell_type": "code",
      "metadata": {
        "id": "d07aueFn_rxy"
      },
      "source": [
        "plot_roc_curve(y_test, bn_cnn_predictions, 'cnn+dropout+bn')"
      ],
      "execution_count": null,
      "outputs": []
    },
    {
      "cell_type": "code",
      "metadata": {
        "id": "HSLGQffIrbHV"
      },
      "source": [
        "show_prediction_result(y_test, bn_cnn_predictions, X_test)"
      ],
      "execution_count": null,
      "outputs": []
    }
  ]
}